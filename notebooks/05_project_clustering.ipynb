{
 "cells": [
  {
   "cell_type": "markdown",
   "id": "4f37c538",
   "metadata": {},
   "source": [
    "# Country Clustering Project"
   ]
  },
  {
   "cell_type": "code",
   "execution_count": 3,
   "id": "5338476f",
   "metadata": {},
   "outputs": [],
   "source": [
    "import pandas as pd\n",
    "import numpy as np\n",
    "import matplotlib.pyplot as plt\n",
    "import seaborn as sns\n",
    "from pathlib import Path\n",
    "from utils.paths import DATA_RAW_DIR"
   ]
  },
  {
   "cell_type": "code",
   "execution_count": 4,
   "id": "178fdbe6",
   "metadata": {},
   "outputs": [
    {
     "name": "stdout",
     "output_type": "stream",
     "text": [
      "True\n"
     ]
    }
   ],
   "source": [
    "# define path\n",
    "\n",
    "country_path = str(DATA_RAW_DIR / \"country-data.csv\")\n",
    "print(Path(country_path).exists())"
   ]
  },
  {
   "cell_type": "code",
   "execution_count": 5,
   "id": "3cd0fc35",
   "metadata": {},
   "outputs": [
    {
     "data": {
      "application/vnd.microsoft.datawrangler.viewer.v0+json": {
       "columns": [
        {
         "name": "index",
         "rawType": "int64",
         "type": "integer"
        },
        {
         "name": "country",
         "rawType": "object",
         "type": "string"
        },
        {
         "name": "child_mort",
         "rawType": "float64",
         "type": "float"
        },
        {
         "name": "exports",
         "rawType": "float64",
         "type": "float"
        },
        {
         "name": "health",
         "rawType": "float64",
         "type": "float"
        },
        {
         "name": "imports",
         "rawType": "float64",
         "type": "float"
        },
        {
         "name": "income",
         "rawType": "int64",
         "type": "integer"
        },
        {
         "name": "inflation",
         "rawType": "float64",
         "type": "float"
        },
        {
         "name": "life_expec",
         "rawType": "float64",
         "type": "float"
        },
        {
         "name": "total_fer",
         "rawType": "float64",
         "type": "float"
        },
        {
         "name": "gdpp",
         "rawType": "int64",
         "type": "integer"
        }
       ],
       "ref": "f042d87e-72bd-473b-9306-d38a114d1882",
       "rows": [
        [
         "0",
         "Afghanistan",
         "90.2",
         "10.0",
         "7.58",
         "44.9",
         "1610",
         "9.44",
         "56.2",
         "5.82",
         "553"
        ],
        [
         "1",
         "Albania",
         "16.6",
         "28.0",
         "6.55",
         "48.6",
         "9930",
         "4.49",
         "76.3",
         "1.65",
         "4090"
        ],
        [
         "2",
         "Algeria",
         "27.3",
         "38.4",
         "4.17",
         "31.4",
         "12900",
         "16.1",
         "76.5",
         "2.89",
         "4460"
        ],
        [
         "3",
         "Angola",
         "119.0",
         "62.3",
         "2.85",
         "42.9",
         "5900",
         "22.4",
         "60.1",
         "6.16",
         "3530"
        ],
        [
         "4",
         "Antigua and Barbuda",
         "10.3",
         "45.5",
         "6.03",
         "58.9",
         "19100",
         "1.44",
         "76.8",
         "2.13",
         "12200"
        ]
       ],
       "shape": {
        "columns": 10,
        "rows": 5
       }
      },
      "text/html": [
       "<div>\n",
       "<style scoped>\n",
       "    .dataframe tbody tr th:only-of-type {\n",
       "        vertical-align: middle;\n",
       "    }\n",
       "\n",
       "    .dataframe tbody tr th {\n",
       "        vertical-align: top;\n",
       "    }\n",
       "\n",
       "    .dataframe thead th {\n",
       "        text-align: right;\n",
       "    }\n",
       "</style>\n",
       "<table border=\"1\" class=\"dataframe\">\n",
       "  <thead>\n",
       "    <tr style=\"text-align: right;\">\n",
       "      <th></th>\n",
       "      <th>country</th>\n",
       "      <th>child_mort</th>\n",
       "      <th>exports</th>\n",
       "      <th>health</th>\n",
       "      <th>imports</th>\n",
       "      <th>income</th>\n",
       "      <th>inflation</th>\n",
       "      <th>life_expec</th>\n",
       "      <th>total_fer</th>\n",
       "      <th>gdpp</th>\n",
       "    </tr>\n",
       "  </thead>\n",
       "  <tbody>\n",
       "    <tr>\n",
       "      <th>0</th>\n",
       "      <td>Afghanistan</td>\n",
       "      <td>90.2</td>\n",
       "      <td>10.0</td>\n",
       "      <td>7.58</td>\n",
       "      <td>44.9</td>\n",
       "      <td>1610</td>\n",
       "      <td>9.44</td>\n",
       "      <td>56.2</td>\n",
       "      <td>5.82</td>\n",
       "      <td>553</td>\n",
       "    </tr>\n",
       "    <tr>\n",
       "      <th>1</th>\n",
       "      <td>Albania</td>\n",
       "      <td>16.6</td>\n",
       "      <td>28.0</td>\n",
       "      <td>6.55</td>\n",
       "      <td>48.6</td>\n",
       "      <td>9930</td>\n",
       "      <td>4.49</td>\n",
       "      <td>76.3</td>\n",
       "      <td>1.65</td>\n",
       "      <td>4090</td>\n",
       "    </tr>\n",
       "    <tr>\n",
       "      <th>2</th>\n",
       "      <td>Algeria</td>\n",
       "      <td>27.3</td>\n",
       "      <td>38.4</td>\n",
       "      <td>4.17</td>\n",
       "      <td>31.4</td>\n",
       "      <td>12900</td>\n",
       "      <td>16.10</td>\n",
       "      <td>76.5</td>\n",
       "      <td>2.89</td>\n",
       "      <td>4460</td>\n",
       "    </tr>\n",
       "    <tr>\n",
       "      <th>3</th>\n",
       "      <td>Angola</td>\n",
       "      <td>119.0</td>\n",
       "      <td>62.3</td>\n",
       "      <td>2.85</td>\n",
       "      <td>42.9</td>\n",
       "      <td>5900</td>\n",
       "      <td>22.40</td>\n",
       "      <td>60.1</td>\n",
       "      <td>6.16</td>\n",
       "      <td>3530</td>\n",
       "    </tr>\n",
       "    <tr>\n",
       "      <th>4</th>\n",
       "      <td>Antigua and Barbuda</td>\n",
       "      <td>10.3</td>\n",
       "      <td>45.5</td>\n",
       "      <td>6.03</td>\n",
       "      <td>58.9</td>\n",
       "      <td>19100</td>\n",
       "      <td>1.44</td>\n",
       "      <td>76.8</td>\n",
       "      <td>2.13</td>\n",
       "      <td>12200</td>\n",
       "    </tr>\n",
       "  </tbody>\n",
       "</table>\n",
       "</div>"
      ],
      "text/plain": [
       "               country  child_mort  exports  health  imports  income  \\\n",
       "0          Afghanistan        90.2     10.0    7.58     44.9    1610   \n",
       "1              Albania        16.6     28.0    6.55     48.6    9930   \n",
       "2              Algeria        27.3     38.4    4.17     31.4   12900   \n",
       "3               Angola       119.0     62.3    2.85     42.9    5900   \n",
       "4  Antigua and Barbuda        10.3     45.5    6.03     58.9   19100   \n",
       "\n",
       "   inflation  life_expec  total_fer   gdpp  \n",
       "0       9.44        56.2       5.82    553  \n",
       "1       4.49        76.3       1.65   4090  \n",
       "2      16.10        76.5       2.89   4460  \n",
       "3      22.40        60.1       6.16   3530  \n",
       "4       1.44        76.8       2.13  12200  "
      ]
     },
     "execution_count": 5,
     "metadata": {},
     "output_type": "execute_result"
    }
   ],
   "source": [
    "# define datframe\n",
    "df_country = pd.read_csv(country_path, sep=\",\", encoding=\"utf-8\")\n",
    "df_country.head()"
   ]
  },
  {
   "cell_type": "code",
   "execution_count": 6,
   "id": "00880098",
   "metadata": {},
   "outputs": [
    {
     "name": "stdout",
     "output_type": "stream",
     "text": [
      "<class 'pandas.core.frame.DataFrame'>\n",
      "RangeIndex: 167 entries, 0 to 166\n",
      "Data columns (total 10 columns):\n",
      " #   Column      Non-Null Count  Dtype  \n",
      "---  ------      --------------  -----  \n",
      " 0   country     167 non-null    object \n",
      " 1   child_mort  167 non-null    float64\n",
      " 2   exports     167 non-null    float64\n",
      " 3   health      167 non-null    float64\n",
      " 4   imports     167 non-null    float64\n",
      " 5   income      167 non-null    int64  \n",
      " 6   inflation   167 non-null    float64\n",
      " 7   life_expec  167 non-null    float64\n",
      " 8   total_fer   167 non-null    float64\n",
      " 9   gdpp        167 non-null    int64  \n",
      "dtypes: float64(7), int64(2), object(1)\n",
      "memory usage: 13.2+ KB\n"
     ]
    }
   ],
   "source": [
    "df_country.info()"
   ]
  },
  {
   "cell_type": "code",
   "execution_count": 7,
   "id": "6989b1e8",
   "metadata": {},
   "outputs": [
    {
     "data": {
      "text/plain": [
       "(167, 10)"
      ]
     },
     "execution_count": 7,
     "metadata": {},
     "output_type": "execute_result"
    }
   ],
   "source": [
    "df_country.shape"
   ]
  },
  {
   "cell_type": "code",
   "execution_count": 8,
   "id": "d39db755",
   "metadata": {},
   "outputs": [
    {
     "data": {
      "application/vnd.microsoft.datawrangler.viewer.v0+json": {
       "columns": [
        {
         "name": "index",
         "rawType": "object",
         "type": "string"
        },
        {
         "name": "0",
         "rawType": "int64",
         "type": "integer"
        }
       ],
       "ref": "144ac9d7-9aa3-4944-955a-4fd63bcf5791",
       "rows": [
        [
         "country",
         "0"
        ],
        [
         "child_mort",
         "0"
        ],
        [
         "exports",
         "0"
        ],
        [
         "health",
         "0"
        ],
        [
         "imports",
         "0"
        ],
        [
         "income",
         "0"
        ],
        [
         "inflation",
         "0"
        ],
        [
         "life_expec",
         "0"
        ],
        [
         "total_fer",
         "0"
        ],
        [
         "gdpp",
         "0"
        ]
       ],
       "shape": {
        "columns": 1,
        "rows": 10
       }
      },
      "text/plain": [
       "country       0\n",
       "child_mort    0\n",
       "exports       0\n",
       "health        0\n",
       "imports       0\n",
       "income        0\n",
       "inflation     0\n",
       "life_expec    0\n",
       "total_fer     0\n",
       "gdpp          0\n",
       "dtype: int64"
      ]
     },
     "execution_count": 8,
     "metadata": {},
     "output_type": "execute_result"
    }
   ],
   "source": [
    "df_country.isnull().sum()"
   ]
  },
  {
   "cell_type": "code",
   "execution_count": 9,
   "id": "b620f015",
   "metadata": {},
   "outputs": [
    {
     "data": {
      "text/plain": [
       "np.int64(0)"
      ]
     },
     "execution_count": 9,
     "metadata": {},
     "output_type": "execute_result"
    }
   ],
   "source": [
    "df_country.duplicated().sum()"
   ]
  },
  {
   "cell_type": "code",
   "execution_count": 10,
   "id": "794bf517",
   "metadata": {},
   "outputs": [
    {
     "data": {
      "image/png": "[encoded data removed]",
      "text/plain": [
       "<Figure size 1500x1500 with 9 Axes>"
      ]
     },
     "metadata": {},
     "output_type": "display_data"
    }
   ],
   "source": [
    "int_cols = df_country.select_dtypes(exclude='object').columns\n",
    "num_plots = len(int_cols)\n",
    "rows = 3 \n",
    "cols = num_plots // rows + (num_plots % rows > 0)  \n",
    "\n",
    "fig, axes = plt.subplots(rows, cols, figsize=(15, 15))  \n",
    "\n",
    "for i, col in enumerate(int_cols):\n",
    "    ax = axes[i // cols, i % cols] if rows > 1 else axes[i % cols]  \n",
    "    sns.boxplot(data=df_country, y=col, ax=ax)\n",
    "    ax.set_title(col)  \n",
    "plt.tight_layout() \n",
    "plt.show()"
   ]
  },
  {
   "cell_type": "code",
   "execution_count": 12,
   "id": "7c375574",
   "metadata": {},
   "outputs": [
    {
     "data": {
      "image/png": "[encoded data removed]",
      "text/plain": [
       "<Figure size 1500x1000 with 2 Axes>"
      ]
     },
     "metadata": {},
     "output_type": "display_data"
    }
   ],
   "source": [
    "corr_matrix = df_country.corr(numeric_only=True)\n",
    "fig = plt.figure(figsize=(15,10))\n",
    "sns.heatmap(corr_matrix, annot=True, cmap='coolwarm')\n",
    "plt.show()"
   ]
  },
  {
   "cell_type": "markdown",
   "id": "8b62f760",
   "metadata": {},
   "source": [
    "# Scale data"
   ]
  },
  {
   "cell_type": "code",
   "execution_count": 13,
   "id": "edcf97ef",
   "metadata": {},
   "outputs": [
    {
     "data": {
      "application/vnd.microsoft.datawrangler.viewer.v0+json": {
       "columns": [
        {
         "name": "index",
         "rawType": "int64",
         "type": "integer"
        },
        {
         "name": "country",
         "rawType": "object",
         "type": "string"
        },
        {
         "name": "child_mort",
         "rawType": "float64",
         "type": "float"
        },
        {
         "name": "exports",
         "rawType": "float64",
         "type": "float"
        },
        {
         "name": "health",
         "rawType": "float64",
         "type": "float"
        },
        {
         "name": "imports",
         "rawType": "float64",
         "type": "float"
        },
        {
         "name": "income",
         "rawType": "float64",
         "type": "float"
        },
        {
         "name": "inflation",
         "rawType": "float64",
         "type": "float"
        },
        {
         "name": "life_expec",
         "rawType": "float64",
         "type": "float"
        },
        {
         "name": "total_fer",
         "rawType": "float64",
         "type": "float"
        },
        {
         "name": "gdpp",
         "rawType": "float64",
         "type": "float"
        }
       ],
       "ref": "63f9882e-a935-4cfc-8a6b-26e498391166",
       "rows": [
        [
         "0",
         "Afghanistan",
         "1.2915323778422956",
         "-1.1382797891341514",
         "0.27908824743315636",
         "-0.08245495594647603",
         "-0.808245403048222",
         "0.15733622489659913",
         "-1.6190920260077017",
         "1.9028822700845949",
         "-0.6791796085360506"
        ],
        [
         "1",
         "Albania",
         "-0.5389488973136866",
         "-0.4796584261917001",
         "-0.09701618253375949",
         "0.0708366942478662",
         "-0.3753688957256792",
         "-0.312347468635594",
         "0.6478664305285681",
         "-0.859972814176629",
         "-0.4856232358934812"
        ],
        [
         "2",
         "Algeria",
         "-0.27283273367008587",
         "-0.09912163871383949",
         "-0.9660730207097395",
         "-0.6417623282771837",
         "-0.22084446943385808",
         "0.7892742852853684",
         "0.6704232310911183",
         "-0.03840439583516186",
         "-0.46537560856021837"
        ],
        [
         "3",
         "Angola",
         "2.007807659425071",
         "0.7753811709708596",
         "-1.4480709309586024",
         "-0.16531530740287717",
         "-0.5850434539600359",
         "1.3870535315990684",
         "-1.1792344150379779",
         "2.1281510299524165",
         "-0.5162682934789601"
        ],
        [
         "4",
         "Antigua and Barbuda",
         "-0.6956341151599187",
         "0.16066789889123856",
         "-0.2868941471772508",
         "0.497567504248332",
         "0.1017317740036137",
         "-0.6017485323271473",
         "0.704258431934943",
         "-0.5419463296573515",
         "-0.041817134075206375"
        ]
       ],
       "shape": {
        "columns": 10,
        "rows": 5
       }
      },
      "text/html": [
       "<div>\n",
       "<style scoped>\n",
       "    .dataframe tbody tr th:only-of-type {\n",
       "        vertical-align: middle;\n",
       "    }\n",
       "\n",
       "    .dataframe tbody tr th {\n",
       "        vertical-align: top;\n",
       "    }\n",
       "\n",
       "    .dataframe thead th {\n",
       "        text-align: right;\n",
       "    }\n",
       "</style>\n",
       "<table border=\"1\" class=\"dataframe\">\n",
       "  <thead>\n",
       "    <tr style=\"text-align: right;\">\n",
       "      <th></th>\n",
       "      <th>country</th>\n",
       "      <th>child_mort</th>\n",
       "      <th>exports</th>\n",
       "      <th>health</th>\n",
       "      <th>imports</th>\n",
       "      <th>income</th>\n",
       "      <th>inflation</th>\n",
       "      <th>life_expec</th>\n",
       "      <th>total_fer</th>\n",
       "      <th>gdpp</th>\n",
       "    </tr>\n",
       "  </thead>\n",
       "  <tbody>\n",
       "    <tr>\n",
       "      <th>0</th>\n",
       "      <td>Afghanistan</td>\n",
       "      <td>1.291532</td>\n",
       "      <td>-1.138280</td>\n",
       "      <td>0.279088</td>\n",
       "      <td>-0.082455</td>\n",
       "      <td>-0.808245</td>\n",
       "      <td>0.157336</td>\n",
       "      <td>-1.619092</td>\n",
       "      <td>1.902882</td>\n",
       "      <td>-0.679180</td>\n",
       "    </tr>\n",
       "    <tr>\n",
       "      <th>1</th>\n",
       "      <td>Albania</td>\n",
       "      <td>-0.538949</td>\n",
       "      <td>-0.479658</td>\n",
       "      <td>-0.097016</td>\n",
       "      <td>0.070837</td>\n",
       "      <td>-0.375369</td>\n",
       "      <td>-0.312347</td>\n",
       "      <td>0.647866</td>\n",
       "      <td>-0.859973</td>\n",
       "      <td>-0.485623</td>\n",
       "    </tr>\n",
       "    <tr>\n",
       "      <th>2</th>\n",
       "      <td>Algeria</td>\n",
       "      <td>-0.272833</td>\n",
       "      <td>-0.099122</td>\n",
       "      <td>-0.966073</td>\n",
       "      <td>-0.641762</td>\n",
       "      <td>-0.220844</td>\n",
       "      <td>0.789274</td>\n",
       "      <td>0.670423</td>\n",
       "      <td>-0.038404</td>\n",
       "      <td>-0.465376</td>\n",
       "    </tr>\n",
       "    <tr>\n",
       "      <th>3</th>\n",
       "      <td>Angola</td>\n",
       "      <td>2.007808</td>\n",
       "      <td>0.775381</td>\n",
       "      <td>-1.448071</td>\n",
       "      <td>-0.165315</td>\n",
       "      <td>-0.585043</td>\n",
       "      <td>1.387054</td>\n",
       "      <td>-1.179234</td>\n",
       "      <td>2.128151</td>\n",
       "      <td>-0.516268</td>\n",
       "    </tr>\n",
       "    <tr>\n",
       "      <th>4</th>\n",
       "      <td>Antigua and Barbuda</td>\n",
       "      <td>-0.695634</td>\n",
       "      <td>0.160668</td>\n",
       "      <td>-0.286894</td>\n",
       "      <td>0.497568</td>\n",
       "      <td>0.101732</td>\n",
       "      <td>-0.601749</td>\n",
       "      <td>0.704258</td>\n",
       "      <td>-0.541946</td>\n",
       "      <td>-0.041817</td>\n",
       "    </tr>\n",
       "  </tbody>\n",
       "</table>\n",
       "</div>"
      ],
      "text/plain": [
       "               country  child_mort   exports    health   imports    income  \\\n",
       "0          Afghanistan    1.291532 -1.138280  0.279088 -0.082455 -0.808245   \n",
       "1              Albania   -0.538949 -0.479658 -0.097016  0.070837 -0.375369   \n",
       "2              Algeria   -0.272833 -0.099122 -0.966073 -0.641762 -0.220844   \n",
       "3               Angola    2.007808  0.775381 -1.448071 -0.165315 -0.585043   \n",
       "4  Antigua and Barbuda   -0.695634  0.160668 -0.286894  0.497568  0.101732   \n",
       "\n",
       "   inflation  life_expec  total_fer      gdpp  \n",
       "0   0.157336   -1.619092   1.902882 -0.679180  \n",
       "1  -0.312347    0.647866  -0.859973 -0.485623  \n",
       "2   0.789274    0.670423  -0.038404 -0.465376  \n",
       "3   1.387054   -1.179234   2.128151 -0.516268  \n",
       "4  -0.601749    0.704258  -0.541946 -0.041817  "
      ]
     },
     "execution_count": 13,
     "metadata": {},
     "output_type": "execute_result"
    }
   ],
   "source": [
    "# scale data\n",
    "from sklearn.preprocessing import StandardScaler\n",
    "scaler = StandardScaler()\n",
    "\n",
    "df_country_scaled = df_country.copy()\n",
    "df_country_scaled[int_cols] = scaler.fit_transform(df_country[int_cols])\n",
    "df_country_scaled.head()"
   ]
  },
  {
   "cell_type": "code",
   "execution_count": 14,
   "id": "ac23a818",
   "metadata": {},
   "outputs": [],
   "source": [
    "df_country_scaled = pd.DataFrame(df_country_scaled, columns = df_country.drop('country',axis=1).columns )"
   ]
  },
  {
   "cell_type": "code",
   "execution_count": 15,
   "id": "3a2db475",
   "metadata": {},
   "outputs": [
    {
     "data": {
      "application/vnd.microsoft.datawrangler.viewer.v0+json": {
       "columns": [
        {
         "name": "index",
         "rawType": "int64",
         "type": "integer"
        },
        {
         "name": "child_mort",
         "rawType": "float64",
         "type": "float"
        },
        {
         "name": "exports",
         "rawType": "float64",
         "type": "float"
        },
        {
         "name": "health",
         "rawType": "float64",
         "type": "float"
        },
        {
         "name": "imports",
         "rawType": "float64",
         "type": "float"
        },
        {
         "name": "income",
         "rawType": "float64",
         "type": "float"
        },
        {
         "name": "inflation",
         "rawType": "float64",
         "type": "float"
        },
        {
         "name": "life_expec",
         "rawType": "float64",
         "type": "float"
        },
        {
         "name": "total_fer",
         "rawType": "float64",
         "type": "float"
        },
        {
         "name": "gdpp",
         "rawType": "float64",
         "type": "float"
        }
       ],
       "ref": "ff7aeb5c-1c59-46f0-986c-8a5e3ef6071b",
       "rows": [
        [
         "0",
         "1.2915323778422956",
         "-1.1382797891341514",
         "0.27908824743315636",
         "-0.08245495594647603",
         "-0.808245403048222",
         "0.15733622489659913",
         "-1.6190920260077017",
         "1.9028822700845949",
         "-0.6791796085360506"
        ],
        [
         "1",
         "-0.5389488973136866",
         "-0.4796584261917001",
         "-0.09701618253375949",
         "0.0708366942478662",
         "-0.3753688957256792",
         "-0.312347468635594",
         "0.6478664305285681",
         "-0.859972814176629",
         "-0.4856232358934812"
        ],
        [
         "2",
         "-0.27283273367008587",
         "-0.09912163871383949",
         "-0.9660730207097395",
         "-0.6417623282771837",
         "-0.22084446943385808",
         "0.7892742852853684",
         "0.6704232310911183",
         "-0.03840439583516186",
         "-0.46537560856021837"
        ],
        [
         "3",
         "2.007807659425071",
         "0.7753811709708596",
         "-1.4480709309586024",
         "-0.16531530740287717",
         "-0.5850434539600359",
         "1.3870535315990684",
         "-1.1792344150379779",
         "2.1281510299524165",
         "-0.5162682934789601"
        ],
        [
         "4",
         "-0.6956341151599187",
         "0.16066789889123856",
         "-0.2868941471772508",
         "0.497567504248332",
         "0.1017317740036137",
         "-0.6017485323271473",
         "0.704258431934943",
         "-0.5419463296573515",
         "-0.041817134075206375"
        ],
        [
         "5",
         "-0.5911773032624306",
         "-0.8126281152348283",
         "0.4689662120766477",
         "-1.2797870344914726",
         "0.08092040345926069",
         "1.244725139619616",
         "0.5914744291221932",
         "-0.38293308739771253",
         "-0.14579143659736693"
        ],
        [
         "6",
         "-0.5016428930645837",
         "-0.7431069713686805",
         "-0.8820885363481952",
         "-0.06588288565519586",
         "-0.5434207128713299",
         "-0.0011227181738579543",
         "0.3095144220903187",
         "-0.8334706071333559",
         "-0.5332325217852074"
        ],
        [
         "7",
         "-0.8324227974066294",
         "-0.7796970470877057",
         "0.699010669240878",
         "-1.0767791734232899",
         "1.2619656818512945",
         "-0.6283164988299784",
         "1.290735246561242",
         "-0.6744573648737171",
         "2.13069855546678"
        ],
        [
         "8",
         "-0.8448581321563303",
         "0.37289033806158384",
         "1.5279010148961194",
         "0.03769255366530558",
         "1.355616849300883",
         "-0.6555486644953804",
         "1.1215592423421175",
         "-0.9991094011538129",
         "1.857081969882147"
        ],
        [
         "9",
         "0.02312823337279717",
         "0.482660565218659",
         "-0.34166663697825805",
         "-1.0850652085689299",
         "-0.05955634771512219",
         "0.5710374175835411",
         "-0.16417838972323065",
         "-0.6810829166345354",
         "-0.38985743093885966"
        ],
        [
         "10",
         "-0.6085867719120119",
         "-0.22352789615852467",
         "0.3922847263552377",
         "-0.13217116682031654",
         "0.29943979417496736",
         "-0.7756738273260383",
         "0.3659064234966936",
         "-0.720836227199445",
         "0.8228112763722342"
        ],
        [
         "11",
         "-0.7379142533089019",
         "1.0388297161478401",
         "-0.6739530751043682",
         "0.1661260984227274",
         "1.2463571539430298",
         "-0.03243496440933742",
         "0.6140312296847434",
         "-0.5220696743748965",
         "0.42333106141866983"
        ],
        [
         "12",
         "0.27680906226669677",
         "-0.9187393348200009",
         "-1.2034204765141039",
         "-1.0394920152679092",
         "-0.7650618091686895",
         "-0.060900642805227986",
         "-0.017559186066654665",
         "-0.4094352944409857",
         "-0.6679613285270807"
        ],
        [
         "13",
         "-0.5986385041122512",
         "-0.05887255542291186",
         "0.42149672091577484",
         "0.07497971182068633",
         "-0.09597624616773998",
         "-0.707925512743819",
         "0.6929800316536686",
         "-0.7738406412859913",
         "0.16613147096911476"
        ],
        [
         "14",
         "-0.815013328757048",
         "0.3765493456334864",
         "-0.4402571186200708",
         "0.7295764883262552",
         "-0.049150662442945685",
         "0.6943886906323998",
         "-0.017559186066654665",
         "-0.9659816423497214",
         "-0.3794600006866436"
        ],
        [
         "15",
         "-0.8398839982564499",
         "1.2913012386091134",
         "1.418356035294105",
         "1.1521642807539012",
         "1.2463571539430298",
         "-0.5599988706798413",
         "1.0651672409357427",
         "-0.720836227199445",
         "1.7202736770898306"
        ],
        [
         "16",
         "-0.4842334244150023",
         "0.625361860522857",
         "-0.5899685907428237",
         "0.43956525822885123",
         "-0.4820271697654885",
         "-0.6302142107230378",
         "0.0952248167460951",
         "-0.15766432752989104",
         "-0.4719424066142496"
        ],
        [
         "17",
         "1.8088423034298555",
         "-0.6333367442116054",
         "-0.9916335159502097",
         "-0.40146730905362027",
         "-0.7973194335124367",
         "-0.6544100373595448",
         "-0.9875016102563037",
         "1.5981068890869539",
         "-0.6679613285270807"
        ],
        [
         "18",
         "0.11017557662070393",
         "0.05089767173416335",
         "-0.5899685907428237",
         "0.9864435778410989",
         "-0.557988672252377",
         "-0.1700190766561415",
         "0.17417361871501869",
         "-0.3763075356368944",
         "-0.590144771586811"
        ],
        [
         "19",
         "0.20717118766837142",
         "0.00333057329943086",
         "-0.721422566265241",
         "-0.5216148186654022",
         "-0.6105373828768683",
         "0.09471173242564003",
         "0.11778161730864378",
         "0.1669877087502049",
         "-0.6010894350101964"
        ],
        [
         "20",
         "-0.7801943914578853",
         "-0.41745529746935756",
         "1.5644160080967908",
         "0.18269816871400757",
         "-0.38629486526146456",
         "-0.6055439561132662",
         "0.704258431934943",
         "-1.0852415740444505",
         "-0.45716711099267937"
        ],
        [
         "21",
         "0.3539081377148428",
         "0.09114675502509097",
         "0.541996198477991",
         "0.18269816871400757",
         "-0.20003309888950507",
         "0.10799571567705564",
         "-1.5175864234762273",
         "-0.045029947595980294",
         "-0.36194853920922704"
        ],
        [
         "22",
         "-0.45936275491560036",
         "-1.1126667361308338",
         "0.8012526502027578",
         "-1.453793772549915",
         "-0.137598987256446",
         "0.05960406240404182",
         "0.41102002462179416",
         "-0.7605895377643547",
         "-0.09654045119213299"
        ],
        [
         "23",
         "-0.6906599812600384",
         "0.9619905571378877",
         "-1.4517224302786698",
         "-0.7826249257530656",
         "3.3014799951978904",
         "0.8462056420771492",
         "0.7380936327787676",
         "-0.7340873307210816",
         "1.2222914913257983"
        ],
        [
         "24",
         "-0.6831987804102178",
         "0.3326412547706565",
         "0.01983179570838921",
         "0.2531294674519487",
         "-0.09597624616773998",
         "-0.6330607785626269",
         "0.3771848237779696",
         "-0.9129772282631752",
         "-0.33513411382193303"
        ],
        [
         "25",
         "1.9331956509268653",
         "-0.8016510925191207",
         "-0.027637695452483617",
         "-0.7163366445879447",
         "-0.8176105197931809",
         "-0.09221288904070754",
         "-1.4273592212260278",
         "1.9360100288886861",
         "-0.6779756955594782"
        ],
        [
         "26",
         "1.376092654140262",
         "-1.1777970709106984",
         "1.746990974100148",
         "-0.31860695759721913",
         "-0.8522614517495286",
         "0.42870902560408863",
         "-1.4499160217885771",
         "2.194406547560599",
         "-0.696800516647701"
        ],
        [
         "27",
         "0.1524557147696871",
         "0.47534255007485415",
         "-0.414696623379601",
         "0.5224256096852524",
         "-0.7608995350598189",
         "-0.44234073331016055",
         "-0.50253039816148",
         "-0.045029947595980294",
         "-0.6664290756478067"
        ],
        [
         "28",
         "1.7342302949316497",
         "-0.6918808653620455",
         "-0.6155290859832938",
         "-0.8240551014812663",
         "-0.7536155553692954",
         "-0.5571523028402522",
         "-1.4950296229136777",
         "1.432468095066497",
         "-0.6377540574785372"
        ],
        [
         "29",
         "-0.8125262618071077",
         "-0.4394093429007725",
         "1.6374459944981339",
         "-0.658334398568464",
         "1.2255457833986767",
         "-0.4660621319734027",
         "1.211786444592317",
         "-0.8732239176982656",
         "1.8844436284406103"
        ],
        [
         "30",
         "-0.2927292692696074",
         "-0.3076850703122822",
         "-0.9952850152702768",
         "0.6177150138601136",
         "-0.5886854438052976",
         "-0.6904665633276728",
         "0.21928721984011923",
         "-0.1841665345731642",
         "-0.5283074232446839"
        ],
        [
         "31",
         "2.753927744407129",
         "-1.072417652839906",
         "-1.0354515077910154",
         "-0.8447701893453665",
         "-0.8458099268807793",
         "-0.5476637433749555",
         "-2.600312850478625",
         "1.4987236126746795",
         "-0.6850350034675617"
        ],
        [
         "32",
         "2.778798413906531",
         "-0.15766575986427964",
         "-0.8346190451873223",
         "-0.14045720196595676",
         "-0.7915963066127396",
         "-0.13206483879495423",
         "-1.5852568251638772",
         "2.4130497556676023",
         "-0.6603547874478279"
        ],
        [
         "33",
         "-0.7354271863589619",
         "-0.12473469171715687",
         "0.4178452215957078",
         "-0.6459053458500037",
         "0.11734030191187847",
         "0.11179113946317447",
         "0.9636616384042671",
         "-0.7075851236778085",
         "-0.0035108120933577455"
        ],
        [
         "34",
         "-0.5613324998631483",
         "-0.5418615549140428",
         "-0.6374380819036966",
         "-1.0063478746853487",
         "-0.3961802662700323",
         "-0.07987776173582158",
         "0.45613362574689315",
         "-0.8997261247415386",
         "-0.4599032768485257"
        ],
        [
         "35",
         "-0.48920755831488266",
         "-0.9223983423919035",
         "0.28273974675322344",
         "-1.2052127181807115",
         "-0.3249013221556232",
         "-0.37212539326696403",
         "0.659144830809844",
         "-0.6214529507871709",
         "-0.36742087092091974"
        ],
        [
         "36",
         "1.2417910388434918",
         "-0.9004442969604884",
         "-0.8419220438274567",
         "0.19927023900528804",
         "-0.8186510883203986",
         "-0.3711765373204343",
         "-0.5250871987240286",
         "1.1939482316770385",
         "-0.6673593720387945"
        ],
        [
         "37",
         "1.9331956509268653",
         "-0.0003284342724716987",
         "0.39958772499537215",
         "0.11226686997606679",
         "-0.8603258578354654",
         "1.2352365801543195",
         "-1.4724728223511274",
         "2.3799219968635112",
         "-0.6911640149846575"
        ],
        [
         "38",
         "0.6374337700080248",
         "1.609634897364631",
         "-1.5904794044412212",
         "0.32356076618988977",
         "-0.6219836366762626",
         "1.2257480206890223",
         "-1.1453992141941531",
         "1.3264592668934043",
         "-0.5594997140013321"
        ],
        [
         "39",
         "-0.698121182109859",
         "-0.2893900324527697",
         "1.4913860216954482",
         "-0.49261369565566165",
         "-0.21564162679776983",
         "-0.11498543175741986",
         "1.1102808420608432",
         "-0.6810829166345354",
         "-0.26071040254291283"
        ],
        [
         "40",
         "1.8088423034298555",
         "0.34727728505826644",
         "-0.5534535975421524",
         "-0.148743237111597",
         "-0.7520547025784688",
         "-0.22695043344792254",
         "-1.6078136257264275",
         "1.538476923239589",
         "-0.6426791560190606"
        ],
        [
         "41",
         "-0.815013328757048",
         "-0.12839369928905944",
         "0.34481523519436486",
         "-0.3641801508982398",
         "0.15376020036449625",
         "-0.6604827154173347",
         "0.6478664305285681",
         "-0.9262283317848117",
         "0.029323178176798224"
        ],
        [
         "42",
         "-0.8622676008059116",
         "0.3326412547706565",
         "-0.30880314309765383",
         "0.43956525822885123",
         "0.8717524841446754",
         "-0.5476637433749555",
         "1.0538888406544682",
         "-1.0123605046754494",
         "0.9760365642996285"
        ],
        [
         "43",
         "-0.867241734705792",
         "0.9107644511312524",
         "0.3886332270351706",
         "0.6632882071611342",
         "0.5803932965237332",
         "-0.8740701889811665",
         "0.7832072339038681",
         "-0.9527305388280849",
         "0.3740800760134359"
        ],
        [
         "44",
         "-0.8498322660562107",
         "0.34361827748636387",
         "1.6739609876988053",
         "-0.13631418439313667",
         "1.3972395903895891",
         "-0.4328521738448638",
         "1.0087752395293677",
         "-0.7142106754386266",
         "2.4645107898800322"
        ],
        [
         "45",
         "-0.0962509802243322",
         "-0.673585827502533",
         "-0.21751566009597526",
         "-0.5630449943936028",
         "-0.31449563688344667",
         "-0.22220615371527405",
         "0.45613362574689315",
         "-0.23054539689889206",
         "-0.411199524614461"
        ],
        [
         "46",
         "-0.3275482065687701",
         "-0.4833174337636027",
         "0.45436021479637945",
         "-0.6003321525489832",
         "-0.4055453830149911",
         "-0.029588396569748432",
         "0.6929800316536686",
         "-0.19079208633398234",
         "-0.454430945136833"
        ],
        [
         "47",
         "-0.22806552857116236",
         "-0.7248119335091681",
         "-0.7871495540264495",
         "-0.8406271717725464",
         "-0.37901088557094104",
         "0.21996071736755823",
         "-0.006280785785380329",
         "0.1603621569893865",
         "-0.5671609783977019"
        ],
        [
         "48",
         "-0.47428515661524157",
         "-0.5199075094826278",
         "0.034437792988657796",
         "-0.012023657208534936",
         "-0.5122036570548003",
         "-0.48693696279705573",
         "0.39974162434051824",
         "-0.4491886050058954",
         "-0.5458188847221005"
        ],
        [
         "49",
         "1.8088423034298555",
         "1.6352479503679487",
         "-0.8528765417876579",
         "0.497567504248332",
         "0.8613467988724989",
         "1.6242675182314894",
         "-1.0890072127877783",
         "1.4987236126746795",
         "0.22632711979773404"
        ]
       ],
       "shape": {
        "columns": 9,
        "rows": 167
       }
      },
      "text/html": [
       "<div>\n",
       "<style scoped>\n",
       "    .dataframe tbody tr th:only-of-type {\n",
       "        vertical-align: middle;\n",
       "    }\n",
       "\n",
       "    .dataframe tbody tr th {\n",
       "        vertical-align: top;\n",
       "    }\n",
       "\n",
       "    .dataframe thead th {\n",
       "        text-align: right;\n",
       "    }\n",
       "</style>\n",
       "<table border=\"1\" class=\"dataframe\">\n",
       "  <thead>\n",
       "    <tr style=\"text-align: right;\">\n",
       "      <th></th>\n",
       "      <th>child_mort</th>\n",
       "      <th>exports</th>\n",
       "      <th>health</th>\n",
       "      <th>imports</th>\n",
       "      <th>income</th>\n",
       "      <th>inflation</th>\n",
       "      <th>life_expec</th>\n",
       "      <th>total_fer</th>\n",
       "      <th>gdpp</th>\n",
       "    </tr>\n",
       "  </thead>\n",
       "  <tbody>\n",
       "    <tr>\n",
       "      <th>0</th>\n",
       "      <td>1.291532</td>\n",
       "      <td>-1.138280</td>\n",
       "      <td>0.279088</td>\n",
       "      <td>-0.082455</td>\n",
       "      <td>-0.808245</td>\n",
       "      <td>0.157336</td>\n",
       "      <td>-1.619092</td>\n",
       "      <td>1.902882</td>\n",
       "      <td>-0.679180</td>\n",
       "    </tr>\n",
       "    <tr>\n",
       "      <th>1</th>\n",
       "      <td>-0.538949</td>\n",
       "      <td>-0.479658</td>\n",
       "      <td>-0.097016</td>\n",
       "      <td>0.070837</td>\n",
       "      <td>-0.375369</td>\n",
       "      <td>-0.312347</td>\n",
       "      <td>0.647866</td>\n",
       "      <td>-0.859973</td>\n",
       "      <td>-0.485623</td>\n",
       "    </tr>\n",
       "    <tr>\n",
       "      <th>2</th>\n",
       "      <td>-0.272833</td>\n",
       "      <td>-0.099122</td>\n",
       "      <td>-0.966073</td>\n",
       "      <td>-0.641762</td>\n",
       "      <td>-0.220844</td>\n",
       "      <td>0.789274</td>\n",
       "      <td>0.670423</td>\n",
       "      <td>-0.038404</td>\n",
       "      <td>-0.465376</td>\n",
       "    </tr>\n",
       "    <tr>\n",
       "      <th>3</th>\n",
       "      <td>2.007808</td>\n",
       "      <td>0.775381</td>\n",
       "      <td>-1.448071</td>\n",
       "      <td>-0.165315</td>\n",
       "      <td>-0.585043</td>\n",
       "      <td>1.387054</td>\n",
       "      <td>-1.179234</td>\n",
       "      <td>2.128151</td>\n",
       "      <td>-0.516268</td>\n",
       "    </tr>\n",
       "    <tr>\n",
       "      <th>4</th>\n",
       "      <td>-0.695634</td>\n",
       "      <td>0.160668</td>\n",
       "      <td>-0.286894</td>\n",
       "      <td>0.497568</td>\n",
       "      <td>0.101732</td>\n",
       "      <td>-0.601749</td>\n",
       "      <td>0.704258</td>\n",
       "      <td>-0.541946</td>\n",
       "      <td>-0.041817</td>\n",
       "    </tr>\n",
       "    <tr>\n",
       "      <th>...</th>\n",
       "      <td>...</td>\n",
       "      <td>...</td>\n",
       "      <td>...</td>\n",
       "      <td>...</td>\n",
       "      <td>...</td>\n",
       "      <td>...</td>\n",
       "      <td>...</td>\n",
       "      <td>...</td>\n",
       "      <td>...</td>\n",
       "    </tr>\n",
       "    <tr>\n",
       "      <th>162</th>\n",
       "      <td>-0.225578</td>\n",
       "      <td>0.200917</td>\n",
       "      <td>-0.571711</td>\n",
       "      <td>0.240700</td>\n",
       "      <td>-0.738527</td>\n",
       "      <td>-0.489784</td>\n",
       "      <td>-0.852161</td>\n",
       "      <td>0.365754</td>\n",
       "      <td>-0.546913</td>\n",
       "    </tr>\n",
       "    <tr>\n",
       "      <th>163</th>\n",
       "      <td>-0.526514</td>\n",
       "      <td>-0.461363</td>\n",
       "      <td>-0.695862</td>\n",
       "      <td>-1.213499</td>\n",
       "      <td>-0.033542</td>\n",
       "      <td>3.616865</td>\n",
       "      <td>0.546361</td>\n",
       "      <td>-0.316678</td>\n",
       "      <td>0.029323</td>\n",
       "    </tr>\n",
       "    <tr>\n",
       "      <th>164</th>\n",
       "      <td>-0.372315</td>\n",
       "      <td>1.130305</td>\n",
       "      <td>0.008877</td>\n",
       "      <td>1.380030</td>\n",
       "      <td>-0.658404</td>\n",
       "      <td>0.409732</td>\n",
       "      <td>0.286958</td>\n",
       "      <td>-0.661206</td>\n",
       "      <td>-0.637754</td>\n",
       "    </tr>\n",
       "    <tr>\n",
       "      <th>165</th>\n",
       "      <td>0.448417</td>\n",
       "      <td>-0.406478</td>\n",
       "      <td>-0.597272</td>\n",
       "      <td>-0.517472</td>\n",
       "      <td>-0.658924</td>\n",
       "      <td>1.500916</td>\n",
       "      <td>-0.344633</td>\n",
       "      <td>1.140944</td>\n",
       "      <td>-0.637754</td>\n",
       "    </tr>\n",
       "    <tr>\n",
       "      <th>166</th>\n",
       "      <td>1.114951</td>\n",
       "      <td>-0.150348</td>\n",
       "      <td>-0.338015</td>\n",
       "      <td>-0.662477</td>\n",
       "      <td>-0.721358</td>\n",
       "      <td>0.590015</td>\n",
       "      <td>-2.092785</td>\n",
       "      <td>1.624609</td>\n",
       "      <td>-0.629546</td>\n",
       "    </tr>\n",
       "  </tbody>\n",
       "</table>\n",
       "<p>167 rows × 9 columns</p>\n",
       "</div>"
      ],
      "text/plain": [
       "     child_mort   exports    health   imports    income  inflation  \\\n",
       "0      1.291532 -1.138280  0.279088 -0.082455 -0.808245   0.157336   \n",
       "1     -0.538949 -0.479658 -0.097016  0.070837 -0.375369  -0.312347   \n",
       "2     -0.272833 -0.099122 -0.966073 -0.641762 -0.220844   0.789274   \n",
       "3      2.007808  0.775381 -1.448071 -0.165315 -0.585043   1.387054   \n",
       "4     -0.695634  0.160668 -0.286894  0.497568  0.101732  -0.601749   \n",
       "..          ...       ...       ...       ...       ...        ...   \n",
       "162   -0.225578  0.200917 -0.571711  0.240700 -0.738527  -0.489784   \n",
       "163   -0.526514 -0.461363 -0.695862 -1.213499 -0.033542   3.616865   \n",
       "164   -0.372315  1.130305  0.008877  1.380030 -0.658404   0.409732   \n",
       "165    0.448417 -0.406478 -0.597272 -0.517472 -0.658924   1.500916   \n",
       "166    1.114951 -0.150348 -0.338015 -0.662477 -0.721358   0.590015   \n",
       "\n",
       "     life_expec  total_fer      gdpp  \n",
       "0     -1.619092   1.902882 -0.679180  \n",
       "1      0.647866  -0.859973 -0.485623  \n",
       "2      0.670423  -0.038404 -0.465376  \n",
       "3     -1.179234   2.128151 -0.516268  \n",
       "4      0.704258  -0.541946 -0.041817  \n",
       "..          ...        ...       ...  \n",
       "162   -0.852161   0.365754 -0.546913  \n",
       "163    0.546361  -0.316678  0.029323  \n",
       "164    0.286958  -0.661206 -0.637754  \n",
       "165   -0.344633   1.140944 -0.637754  \n",
       "166   -2.092785   1.624609 -0.629546  \n",
       "\n",
       "[167 rows x 9 columns]"
      ]
     },
     "execution_count": 15,
     "metadata": {},
     "output_type": "execute_result"
    }
   ],
   "source": [
    "df_country_scaled"
   ]
  },
  {
   "cell_type": "code",
   "execution_count": null,
   "id": "ba6fc1c8",
   "metadata": {},
   "outputs": [],
   "source": []
  }
 ],
 "metadata": {
  "kernelspec": {
   "display_name": "ml-py3.12",
   "language": "python",
   "name": "python3"
  },
  "language_info": {
   "codemirror_mode": {
    "name": "ipython",
    "version": 3
   },
   "file_extension": ".py",
   "mimetype": "text/x-python",
   "name": "python",
   "nbconvert_exporter": "python",
   "pygments_lexer": "ipython3",
   "version": "3.12.2"
  }
 },
 "nbformat": 4,
 "nbformat_minor": 5
}
